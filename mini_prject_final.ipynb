{
 "cells": [
  {
   "cell_type": "markdown",
   "id": "88f5422f",
   "metadata": {
    "id": "88f5422f"
   },
   "source": [
    "# KNN SVM LSTM GRU WITH ENSEMBLE"
   ]
  },
  {
   "cell_type": "markdown",
   "id": "afb45c77",
   "metadata": {
    "id": "afb45c77"
   },
   "source": [
    "# SEPARATE CODE"
   ]
  },
  {
   "cell_type": "code",
   "execution_count": 1,
   "id": "e94c3c72",
   "metadata": {
    "id": "e94c3c72"
   },
   "outputs": [],
   "source": [
    "import csv\n",
    "import copy\n",
    "import argparse\n",
    "import itertools\n",
    "from collections import Counter\n",
    "from collections import deque\n",
    "import pandas as pd\n",
    "import cv2\n",
    "import seaborn as sns\n",
    "import numpy as np\n",
    "import mediapipe as mp\n",
    "import time\n",
    "from matplotlib import pyplot as plt\n",
    "from sklearn import svm\n",
    "from sklearn.model_selection import train_test_split\n",
    "from sklearn.neighbors import KNeighborsClassifier\n",
    "from sklearn.preprocessing import MinMaxScaler\n",
    "from sklearn.metrics import classification_report,mean_squared_error, accuracy_score, confusion_matrix\n",
    "from tensorflow.keras.models import Sequential, load_model\n",
    "from tensorflow.keras.layers import Dense, LSTM, Dropout, GRU, Bidirectional, Input, Conv1D, MaxPooling1D, Flatten\n",
    "from tensorflow.keras.optimizers import Adam\n",
    "from tensorflow.keras.callbacks import ModelCheckpoint\n",
    "from keras.utils import to_categorical\n",
    "\n"
   ]
  },
  {
   "cell_type": "code",
   "execution_count": 2,
   "id": "d5f5306a",
   "metadata": {
    "id": "d5f5306a"
   },
   "outputs": [],
   "source": [
    "class TimerError(Exception):\n",
    "    \"\"\"A custom exception used to report errors in use of Timer class\"\"\"\n",
    "\n",
    "class Timer:\n",
    "    def __init__(self):\n",
    "        self._start_time = None\n",
    "\n",
    "    def start(self):\n",
    "        \"\"\"Start a new timer\"\"\"\n",
    "        if self._start_time is not None:\n",
    "            raise TimerError(f\"Timer is running. Use .stop() to stop it\")\n",
    "\n",
    "        self._start_time = time.perf_counter()\n",
    "\n",
    "    def show(self):\n",
    "        \"\"\"Stop the timer, and report the elapsed time\"\"\"\n",
    "        if self._start_time is None:\n",
    "            raise TimerError(f\"Timer is not running. Use .start() to start it\")\n",
    "\n",
    "        elapsed_time = time.perf_counter() - self._start_time\n",
    "        return elapsed_time\n",
    "    def stop(self):\n",
    "        self._start_time=None"
   ]
  },
  {
   "cell_type": "code",
   "execution_count": 3,
   "id": "bd301bf5",
   "metadata": {
    "id": "bd301bf5"
   },
   "outputs": [],
   "source": [
    "# Function to calculate landmark list\n",
    "def calc_landmark_list(image, landmarks):\n",
    "    image_width, image_height = image.shape[1], image.shape[0]\n",
    "\n",
    "    landmark_point = []\n",
    "\n",
    "    # Iterate over each landmark point\n",
    "    for _, landmark in enumerate(landmarks.landmark):\n",
    "        # Convert normalized coordinates to pixel coordinates\n",
    "        landmark_x = min(int(landmark.x * image_width), image_width - 1)\n",
    "        landmark_y = min(int(landmark.y * image_height), image_height - 1)\n",
    "        # landmark_z = landmark.z  # Uncomment this line if you need the z-coordinate\n",
    "\n",
    "        # Append the pixel coordinates to the landmark_point list\n",
    "        landmark_point.append([landmark_x, landmark_y])\n",
    "\n",
    "    return landmark_point\n",
    "\n",
    "\n",
    "# Function to preprocess landmarks\n",
    "def pre_process_landmark(landmark_list):\n",
    "    # Implement your preprocessing logic here\n",
    "    temp_landmark_list = copy.deepcopy(landmark_list)\n",
    "\n",
    "    # Convert to relative coordinates\n",
    "    base_x, base_y = 0, 0\n",
    "    for index, landmark_point in enumerate(temp_landmark_list):\n",
    "        if index == 0:\n",
    "            base_x, base_y = landmark_point[0], landmark_point[1]\n",
    "\n",
    "        temp_landmark_list[index][0] = temp_landmark_list[index][0] - base_x\n",
    "        temp_landmark_list[index][1] = temp_landmark_list[index][1] - base_y\n",
    "\n",
    "    # Convert to a one-dimensional list\n",
    "    temp_landmark_list = list(\n",
    "        itertools.chain.from_iterable(temp_landmark_list))\n",
    "\n",
    "    # Normalization\n",
    "    max_value = max(list(map(abs, temp_landmark_list)))\n",
    "\n",
    "    def normalize_(n):\n",
    "        return n / max_value\n",
    "\n",
    "    temp_landmark_list = list(map(normalize_, temp_landmark_list))\n",
    "\n",
    "    return temp_landmark_list\n",
    "    pass\n"
   ]
  },
  {
   "cell_type": "markdown",
   "id": "f6246de0",
   "metadata": {
    "id": "f6246de0"
   },
   "source": [
    "# To Load A Label"
   ]
  },
  {
   "cell_type": "code",
   "execution_count": null,
   "id": "781faf97",
   "metadata": {
    "id": "781faf97",
    "scrolled": true
   },
   "outputs": [],
   "source": [
    "mp_hands = mp.solutions.hands\n",
    "mp_drawing = mp.solutions.drawing_utils\n",
    "hands = mp_hands.Hands(min_detection_confidence=0.8, min_tracking_confidence=0.5)\n",
    "cap = cv2.VideoCapture(0)  # Use the appropriate index or video file path\n",
    "keyy = 1\n",
    "t = Timer()\n",
    "while keyy != 0:\n",
    "    label = input(\"Enter label\")\n",
    "    label=\" \"+label\n",
    "    with open(\"label.txt\",'r') as f:\n",
    "        la=f.read().split()\n",
    "        size=len(la)\n",
    "        print(size)\n",
    "    with open('label.txt','a+') as f:\n",
    "        print(f.read())\n",
    "        f.write(label)\n",
    "    t.start()\n",
    "    while t.show() < 120.0 and cap.isOpened():\n",
    "        ret, frame = cap.read()\n",
    "\n",
    "        # BGR 2 RGB\n",
    "        image = cv2.cvtColor(frame, cv2.COLOR_BGR2RGB)\n",
    "\n",
    "        # Flip on horizontal\n",
    "        image = cv2.flip(image, 1)\n",
    "        debug_image = copy.deepcopy(image)\n",
    "\n",
    "        # Set flag\n",
    "        image.flags.writeable = False\n",
    "\n",
    "        # Detections\n",
    "        results = hands.process(image)\n",
    "\n",
    "        # Set flag to true\n",
    "        image.flags.writeable = True\n",
    "\n",
    "        # RGB 2 BGR\n",
    "        image = cv2.cvtColor(image, cv2.COLOR_RGB2BGR)\n",
    "\n",
    "        # Rendering results\n",
    "        if results.multi_hand_landmarks:\n",
    "            for hand_landmarks, handedness in zip(results.multi_hand_landmarks, results.multi_handedness):\n",
    "                landmark_list = calc_landmark_list(debug_image, hand_landmarks)\n",
    "                l=pre_process_landmark(landmark_list)\n",
    "                l.insert(0,size)\n",
    "                #print(\"Iterations:\",l)\n",
    "                #print(pre_processed_landmark_list)\n",
    "                x, y, w, h = cv2.boundingRect(np.array(landmark_list))\n",
    "                cv2.rectangle(debug_image, (x, y), (x + w, y + h), (0, 255, 0), 2)\n",
    "                hand_label = \"Left Hand\" if handedness.classification[0].label == \"Left\" else \"Right Hand\"\n",
    "                cv2.putText(debug_image, hand_label, (x, y - 10), cv2.FONT_HERSHEY_SIMPLEX, 0.5, (255, 255, 255), 2)\n",
    "                mp_drawing.draw_landmarks(debug_image, hand_landmarks, mp_hands.HAND_CONNECTIONS,\n",
    "                                          mp_drawing.DrawingSpec(color=(121, 22, 76), thickness=2, circle_radius=4),\n",
    "                                          mp_drawing.DrawingSpec(color=(250, 44, 250), thickness=2, circle_radius=2),\n",
    "                                          )\n",
    "                with open(\"training_data.csv\",'a+',newline='') as f:\n",
    "                    writer=csv.writer(f)\n",
    "                    #print(l)\n",
    "                    writer.writerow(l)\n",
    "    keyy = int(input(\"Continue?\"))\n",
    "    t.stop()\n",
    "\n",
    "cap.release()\n",
    "cv2.destroyAllWindows()\n",
    "hands.close()"
   ]
  },
  {
   "cell_type": "code",
   "execution_count": 4,
   "id": "58ac7e19",
   "metadata": {
    "colab": {
     "base_uri": "https://localhost:8080/"
    },
    "id": "58ac7e19",
    "outputId": "507aeb3d-cf05-4ef9-e818-00181863edda"
   },
   "outputs": [
    {
     "name": "stdout",
     "output_type": "stream",
     "text": [
      "{'open': 0, 'close': 1, 'pointer': 2, 'ok': 3, 'iloveyou': 4, 'Good': 5, 'Bad': 6, 'Peace': 7, 'Super': 8, 'Pray': 9, 'Stop': 10, 'Call': 11, 'Love': 12, 'No': 13, 'thank': 14, 'you': 15, 'Internet': 16, 'House': 17, 'food': 18, 'Chicken': 19, 'When': 20, 'What': 21, 'TV': 22, 'A': 23, 'alphabet_A': 24, 'alphabet_B': 25, 'alphabet_C': 26, 'alphabet_D': 27, '1': 28, 'alphabet_L': 29, 'alphabet_H': 30, 'alphabet_F': 31, 'alphabet_J': 32, 'alphabet_W': 33, 'alphabet_V': 34, 'alphabet_v': 35, 'alphabet_X': 36, '4': 37}\n"
     ]
    }
   ],
   "source": [
    "labels_file = 'label.txt'\n",
    "with open(labels_file, 'r') as f:\n",
    "    labels = f.read().split()\n",
    "\n",
    "data_file = 'training_data.csv'\n",
    "unique_words = set()\n",
    "with open(data_file, 'r') as f:\n",
    "    reader = csv.reader(f)\n",
    "    for row in reader:\n",
    "        unique_words.update(row)\n",
    "\n",
    "word_index = {word: index for index, word in enumerate(unique_words)}\n",
    "label_index_mapping = {label: index for index, label in enumerate(labels)}\n",
    "print(label_index_mapping)"
   ]
  },
  {
   "cell_type": "code",
   "execution_count": 5,
   "id": "a9fdd406",
   "metadata": {
    "colab": {
     "base_uri": "https://localhost:8080/",
     "height": 472
    },
    "id": "a9fdd406",
    "outputId": "20ce7c04-df26-4d1c-c371-015da9285d17"
   },
   "outputs": [
    {
     "data": {
      "image/png": "[encoded data removed]",
      "text/plain": [
       "<Figure size 432x288 with 1 Axes>"
      ]
     },
     "metadata": {
      "needs_background": "light"
     },
     "output_type": "display_data"
    }
   ],
   "source": [
    "data=pd.read_csv('training_data.csv',header=None)\n",
    "data.head()\n",
    "plt.scatter(data[0],data[1])\n",
    "plt.xlabel('labels')\n",
    "plt.ylabel('landmarks')\n",
    "plt.title('Scatter plot of dataset')\n",
    "plt.grid(True)\n",
    "plt.show()"
   ]
  },
  {
   "cell_type": "markdown",
   "id": "53d23136",
   "metadata": {
    "id": "53d23136"
   },
   "source": [
    "# To Train the data"
   ]
  },
  {
   "cell_type": "code",
   "execution_count": 6,
   "id": "b2f23bac",
   "metadata": {
    "id": "b2f23bac"
   },
   "outputs": [],
   "source": [
    "y=data.iloc[:,0]\n",
    "x=data.iloc[:,1:]\n",
    "xtrain,xtest,ytrain,ytest=train_test_split(x,y,test_size=0.20,random_state=77)"
   ]
  },
  {
   "cell_type": "code",
   "execution_count": 7,
   "id": "f6882e0e",
   "metadata": {
    "colab": {
     "base_uri": "https://localhost:8080/"
    },
    "id": "f6882e0e",
    "outputId": "fd0c115f-f91a-489e-e09c-03a51f07b597"
   },
   "outputs": [
    {
     "data": {
      "text/plain": [
       "(32590,)"
      ]
     },
     "execution_count": 7,
     "metadata": {},
     "output_type": "execute_result"
    }
   ],
   "source": [
    "y.shape"
   ]
  },
  {
   "cell_type": "code",
   "execution_count": 8,
   "id": "6af60223",
   "metadata": {
    "colab": {
     "base_uri": "https://localhost:8080/"
    },
    "id": "6af60223",
    "outputId": "197feb01-6049-4f88-bae0-f1594ad4ea03"
   },
   "outputs": [
    {
     "data": {
      "text/plain": [
       "(32590, 42)"
      ]
     },
     "execution_count": 8,
     "metadata": {},
     "output_type": "execute_result"
    }
   ],
   "source": [
    "x.shape"
   ]
  },
  {
   "cell_type": "code",
   "execution_count": 9,
   "id": "1b455cda",
   "metadata": {
    "colab": {
     "base_uri": "https://localhost:8080/"
    },
    "id": "1b455cda",
    "outputId": "640938aa-62a9-4182-b2be-4fcd6baa471b"
   },
   "outputs": [
    {
     "data": {
      "text/plain": [
       "(26072, 42)"
      ]
     },
     "execution_count": 9,
     "metadata": {},
     "output_type": "execute_result"
    }
   ],
   "source": [
    "xtrain.shape"
   ]
  },
  {
   "cell_type": "code",
   "execution_count": 10,
   "id": "a80d461a",
   "metadata": {
    "colab": {
     "base_uri": "https://localhost:8080/"
    },
    "id": "a80d461a",
    "outputId": "8241cc2e-9cf4-471b-8158-82564b317321"
   },
   "outputs": [
    {
     "data": {
      "text/plain": [
       "(6518, 42)"
      ]
     },
     "execution_count": 10,
     "metadata": {},
     "output_type": "execute_result"
    }
   ],
   "source": [
    "xtest.shape"
   ]
  },
  {
   "cell_type": "code",
   "execution_count": 11,
   "id": "258929d3",
   "metadata": {
    "colab": {
     "base_uri": "https://localhost:8080/"
    },
    "id": "258929d3",
    "outputId": "a3422367-2db4-42f2-b04c-d494814b2b07"
   },
   "outputs": [
    {
     "data": {
      "text/plain": [
       "(26072,)"
      ]
     },
     "execution_count": 11,
     "metadata": {},
     "output_type": "execute_result"
    }
   ],
   "source": [
    "ytrain.shape"
   ]
  },
  {
   "cell_type": "code",
   "execution_count": 12,
   "id": "fbe593fb",
   "metadata": {
    "colab": {
     "base_uri": "https://localhost:8080/"
    },
    "id": "fbe593fb",
    "outputId": "29033293-a525-4b5f-eaaf-736d4b0a8725"
   },
   "outputs": [
    {
     "data": {
      "text/plain": [
       "(6518,)"
      ]
     },
     "execution_count": 12,
     "metadata": {},
     "output_type": "execute_result"
    }
   ],
   "source": [
    "ytest.shape"
   ]
  },
  {
   "cell_type": "code",
   "execution_count": 13,
   "id": "b5c6f9fc",
   "metadata": {
    "colab": {
     "base_uri": "https://localhost:8080/"
    },
    "id": "b5c6f9fc",
    "outputId": "64eaf3d1-7685-4b21-b172-f1c8867a3a87"
   },
   "outputs": [
    {
     "data": {
      "text/plain": [
       "[RangeIndex(start=0, stop=32590, step=1)]"
      ]
     },
     "execution_count": 13,
     "metadata": {},
     "output_type": "execute_result"
    }
   ],
   "source": [
    "y.axes"
   ]
  },
  {
   "cell_type": "code",
   "execution_count": 14,
   "id": "1f2639df",
   "metadata": {
    "colab": {
     "base_uri": "https://localhost:8080/"
    },
    "id": "1f2639df",
    "outputId": "4fd0bc9d-9c0a-45a3-bd6d-b63d145d69df"
   },
   "outputs": [
    {
     "data": {
      "text/plain": [
       "[RangeIndex(start=0, stop=32590, step=1),\n",
       " Int64Index([ 1,  2,  3,  4,  5,  6,  7,  8,  9, 10, 11, 12, 13, 14, 15, 16, 17,\n",
       "             18, 19, 20, 21, 22, 23, 24, 25, 26, 27, 28, 29, 30, 31, 32, 33, 34,\n",
       "             35, 36, 37, 38, 39, 40, 41, 42],\n",
       "            dtype='int64')]"
      ]
     },
     "execution_count": 14,
     "metadata": {},
     "output_type": "execute_result"
    }
   ],
   "source": [
    "x.axes"
   ]
  },
  {
   "cell_type": "code",
   "execution_count": 15,
   "id": "79e0edaa",
   "metadata": {
    "colab": {
     "base_uri": "https://localhost:8080/"
    },
    "id": "79e0edaa",
    "outputId": "e2483adb-6da5-4293-c378-f32d5038dca2"
   },
   "outputs": [
    {
     "data": {
      "text/plain": [
       "32590"
      ]
     },
     "execution_count": 15,
     "metadata": {},
     "output_type": "execute_result"
    }
   ],
   "source": [
    "y.size\n"
   ]
  },
  {
   "cell_type": "code",
   "execution_count": 16,
   "id": "29653ac6",
   "metadata": {
    "colab": {
     "base_uri": "https://localhost:8080/"
    },
    "id": "29653ac6",
    "outputId": "9d049329-3adb-406e-b722-e0a7afe0a8ce"
   },
   "outputs": [
    {
     "data": {
      "text/plain": [
       "1368780"
      ]
     },
     "execution_count": 16,
     "metadata": {},
     "output_type": "execute_result"
    }
   ],
   "source": [
    "x.size"
   ]
  },
  {
   "cell_type": "markdown",
   "id": "4d8bc07b",
   "metadata": {
    "id": "4d8bc07b"
   },
   "source": [
    "# Normalizing the data"
   ]
  },
  {
   "cell_type": "code",
   "execution_count": 17,
   "id": "c2ef8042",
   "metadata": {
    "id": "c2ef8042"
   },
   "outputs": [],
   "source": [
    "scaler = MinMaxScaler(feature_range=(0, 1))\n",
    "xtrain_scaled = scaler.fit_transform(xtrain)\n",
    "xtest_scaled = scaler.transform(xtest)"
   ]
  },
  {
   "cell_type": "markdown",
   "id": "fa99c1b0",
   "metadata": {
    "id": "fa99c1b0"
   },
   "source": [
    "# To calculate accuracy for KNN"
   ]
  },
  {
   "cell_type": "code",
   "execution_count": 18,
   "id": "eb688940",
   "metadata": {
    "colab": {
     "base_uri": "https://localhost:8080/"
    },
    "id": "eb688940",
    "outputId": "708da24e-b3da-4dde-c994-dbfa27ddefdb"
   },
   "outputs": [
    {
     "name": "stdout",
     "output_type": "stream",
     "text": [
      "Accuracy for K-NN Algorithm -- >  98.95673519484505  %\n",
      "\n",
      "Classification Report:\n",
      "              precision    recall  f1-score   support\n",
      "\n",
      "           0       0.96      0.99      0.97       291\n",
      "           1       0.98      0.99      0.98       315\n",
      "           2       0.97      0.99      0.98       255\n",
      "           3       0.99      1.00      0.99        68\n",
      "           4       1.00      1.00      1.00        20\n",
      "           5       0.98      0.98      0.98        88\n",
      "           6       1.00      0.99      0.99        86\n",
      "           7       0.97      0.99      0.98        70\n",
      "           8       0.98      0.95      0.97       103\n",
      "           9       0.98      1.00      0.99        57\n",
      "          10       0.99      1.00      0.99        83\n",
      "          11       0.99      0.99      0.99        92\n",
      "          12       0.99      1.00      1.00       107\n",
      "          13       0.97      0.95      0.96        81\n",
      "          14       0.98      0.99      0.99       150\n",
      "          16       1.00      1.00      1.00       612\n",
      "          17       1.00      1.00      1.00       602\n",
      "          18       1.00      1.00      1.00       298\n",
      "          19       0.98      0.98      0.98        65\n",
      "          20       1.00      1.00      1.00       427\n",
      "          21       0.99      0.93      0.96       153\n",
      "          22       0.99      0.99      0.99       389\n",
      "          24       0.99      0.99      0.99       399\n",
      "          25       1.00      1.00      1.00       331\n",
      "          26       0.99      0.98      0.99       166\n",
      "          27       0.99      1.00      0.99       277\n",
      "          28       0.99      0.95      0.97       133\n",
      "          29       1.00      1.00      1.00        79\n",
      "          30       0.99      0.99      0.99       171\n",
      "          31       1.00      1.00      1.00        57\n",
      "          32       1.00      0.90      0.95        48\n",
      "          33       1.00      1.00      1.00       341\n",
      "          36       0.99      0.96      0.98       104\n",
      "\n",
      "    accuracy                           0.99      6518\n",
      "   macro avg       0.99      0.98      0.99      6518\n",
      "weighted avg       0.99      0.99      0.99      6518\n",
      "\n"
     ]
    },
    {
     "data": {
      "image/png": "[encoded data removed]",
      "text/plain": [
       "<Figure size 576x432 with 1 Axes>"
      ]
     },
     "metadata": {
      "needs_background": "light"
     },
     "output_type": "display_data"
    }
   ],
   "source": [
    "#Neighbours = 3\n",
    "knn = KNeighborsClassifier(n_neighbors=3)\n",
    "knn.fit(xtrain,ytrain)\n",
    "pred=knn.predict(xtest)\n",
    "acc=knn.score(xtest,ytest)\n",
    "print(\"Accuracy for K-NN Algorithm -- > \",acc*100,\" %\")\n",
    "\n",
    "print(\"\\nClassification Report:\")\n",
    "print(classification_report(ytest, pred))\n",
    "cm = confusion_matrix(ytest, pred)\n",
    "\n",
    "# Plot confusion matrix\n",
    "plt.figure(figsize=(8, 6))\n",
    "sns.heatmap(cm, annot=True, fmt=\"d\", cmap=\"Blues\", cbar=False)\n",
    "plt.title(\"Confusion Matrix\")\n",
    "plt.xlabel(\"Predicted Label\")\n",
    "plt.ylabel(\"True Label\")\n",
    "plt.show()"
   ]
  },
  {
   "cell_type": "code",
   "execution_count": 24,
   "id": "25209884",
   "metadata": {
    "colab": {
     "base_uri": "https://localhost:8080/",
     "height": 472
    },
    "id": "25209884",
    "outputId": "0d8a6227-140e-4de5-ac02-7f87566dd316"
   },
   "outputs": [
    {
     "data": {
      "image/png": "[encoded data removed]",
      "text/plain": [
       "<Figure size 432x288 with 1 Axes>"
      ]
     },
     "metadata": {
      "needs_background": "light"
     },
     "output_type": "display_data"
    }
   ],
   "source": [
    "neighbors = list(range(1, 11))  # You can adjust this range as needed\n",
    "accuracies = []\n",
    "for k in neighbors:\n",
    "    # Initialize KNN classifier with k neighbors\n",
    "    knn = KNeighborsClassifier(n_neighbors=k)\n",
    "    # Train the model\n",
    "    knn.fit(xtrain, ytrain)\n",
    "    pred = knn.predict(xtest)\n",
    "    # Calculate accuracy and append to list\n",
    "    acc = accuracy_score(ytest, pred)\n",
    "    accuracies.append(acc)\n",
    "# Plot the graph\n",
    "plt.plot(neighbors, accuracies, marker='o')\n",
    "plt.title('Accuracy vs. Number of Neighbors')\n",
    "plt.xlabel('Number of Neighbors (k)')\n",
    "plt.ylabel('Accuracy')\n",
    "plt.xticks(neighbors)\n",
    "plt.grid(True)\n",
    "plt.show()"
   ]
  },
  {
   "cell_type": "markdown",
   "id": "2981efe8",
   "metadata": {
    "id": "2981efe8"
   },
   "source": [
    "# To calculate accuracy for SVM"
   ]
  },
  {
   "cell_type": "code",
   "execution_count": 19,
   "id": "b7f285a1",
   "metadata": {
    "colab": {
     "base_uri": "https://localhost:8080/"
    },
    "id": "b7f285a1",
    "outputId": "3e19f021-abbf-408e-b30c-b7ccd357b11d"
   },
   "outputs": [
    {
     "name": "stdout",
     "output_type": "stream",
     "text": [
      "Accuracy for SVM Algoritm -- >  96.85486345504756 %\n",
      "\n",
      "Classification Report:\n",
      "              precision    recall  f1-score   support\n",
      "\n",
      "           0       0.87      0.95      0.91       291\n",
      "           1       0.91      0.97      0.94       315\n",
      "           2       0.93      0.95      0.94       255\n",
      "           3       1.00      0.99      0.99        68\n",
      "           4       1.00      0.90      0.95        20\n",
      "           5       0.98      0.94      0.96        88\n",
      "           6       0.99      0.97      0.98        86\n",
      "           7       1.00      0.99      0.99        70\n",
      "           8       0.98      0.95      0.97       103\n",
      "           9       1.00      1.00      1.00        57\n",
      "          10       0.97      1.00      0.98        83\n",
      "          11       1.00      0.99      0.99        92\n",
      "          12       1.00      0.94      0.97       107\n",
      "          13       0.97      0.81      0.89        81\n",
      "          14       0.97      0.97      0.97       150\n",
      "          16       1.00      0.99      0.99       612\n",
      "          17       0.97      1.00      0.98       602\n",
      "          18       0.98      0.98      0.98       298\n",
      "          19       1.00      0.78      0.88        65\n",
      "          20       0.95      0.99      0.97       427\n",
      "          21       0.97      0.92      0.95       153\n",
      "          22       0.97      0.98      0.98       389\n",
      "          24       0.99      0.99      0.99       399\n",
      "          25       1.00      1.00      1.00       331\n",
      "          26       0.99      0.96      0.98       166\n",
      "          27       0.97      0.91      0.94       277\n",
      "          28       0.99      0.91      0.95       133\n",
      "          29       0.98      1.00      0.99        79\n",
      "          30       0.97      0.98      0.98       171\n",
      "          31       1.00      1.00      1.00        57\n",
      "          32       1.00      0.85      0.92        48\n",
      "          33       0.98      1.00      0.99       341\n",
      "          36       0.92      0.87      0.89       104\n",
      "\n",
      "    accuracy                           0.97      6518\n",
      "   macro avg       0.98      0.95      0.96      6518\n",
      "weighted avg       0.97      0.97      0.97      6518\n",
      "\n"
     ]
    }
   ],
   "source": [
    "clf = svm.SVC()\n",
    "clf.fit(xtrain,ytrain)\n",
    "spred=clf.predict(xtest)\n",
    "sacc=clf.score(xtest,ytest)\n",
    "print(\"Accuracy for SVM Algoritm -- > \",sacc*100, \"%\")\n",
    "\n",
    "print(\"\\nClassification Report:\")\n",
    "print(classification_report(ytest, spred))"
   ]
  },
  {
   "cell_type": "code",
   "execution_count": 31,
   "id": "9f92416d",
   "metadata": {
    "colab": {
     "base_uri": "https://localhost:8080/",
     "height": 472
    },
    "id": "9f92416d",
    "outputId": "a29333dc-6d52-4d93-a29a-b24dfe73d085"
   },
   "outputs": [
    {
     "data": {
      "image/png": "[encoded data removed]",
      "text/plain": [
       "<Figure size 640x480 with 1 Axes>"
      ]
     },
     "metadata": {},
     "output_type": "display_data"
    }
   ],
   "source": [
    "kernels = ['linear', 'poly', 'rbf', 'sigmoid']\n",
    "# Initialize lists to store accuracy scores\n",
    "accuracies = []\n",
    "# Loop through different kernel types\n",
    "for kernel in kernels:\n",
    "    # Initialize SVM classifier with the specified kernel\n",
    "    clf = svm.SVC(kernel=kernel)\n",
    "    clf.fit(xtrain, ytrain)\n",
    "    spred = clf.predict(xtest)\n",
    "    sacc = accuracy_score(ytest, spred)\n",
    "    accuracies.append(sacc)\n",
    "plt.bar(kernels, accuracies)\n",
    "plt.title('Accuracy vs. Kernel Type for SVM')\n",
    "plt.xlabel('Kernel Type')\n",
    "plt.ylabel('Accuracy')\n",
    "plt.ylim(0, 1)  # Set the y-axis limits to better visualize differences\n",
    "plt.grid(True)\n",
    "plt.show()"
   ]
  },
  {
   "cell_type": "markdown",
   "id": "77f9c2df",
   "metadata": {
    "id": "77f9c2df"
   },
   "source": [
    "# To Calculate accuracy for LSTM"
   ]
  },
  {
   "cell_type": "code",
   "execution_count": 20,
   "id": "a019dcc3",
   "metadata": {
    "id": "a019dcc3"
   },
   "outputs": [],
   "source": [
    "# Reshape input data for LSTM\n",
    "y=to_categorical(y)\n",
    "xtrain,xtest,ytrain,ytest=train_test_split(x,y,test_size=0.20,random_state=0)\n",
    "\n",
    "xtrain_lstm = xtrain_scaled.reshape((xtrain.shape[0], xtrain.shape[1], 1))\n",
    "xtest_lstm = xtest_scaled.reshape((xtest.shape[0], xtest.shape[1], 1))"
   ]
  },
  {
   "cell_type": "code",
   "execution_count": 21,
   "id": "58c169ba",
   "metadata": {
    "colab": {
     "base_uri": "https://localhost:8080/"
    },
    "id": "58c169ba",
    "outputId": "34f6b417-58ef-4fb4-9e35-47dc78de4c11"
   },
   "outputs": [],
   "source": [
    "model = Sequential()\n",
    "model.add(LSTM(64, return_sequences=True, activation='linear', input_shape=(42,1)))\n",
    "model.add(LSTM(128, return_sequences=True, activation='linear'))\n",
    "model.add(LSTM(64, return_sequences=False, activation='linear'))\n",
    "model.add(Dense(64, activation='linear'))\n",
    "model.add(Dense(32, activation='linear'))\n",
    "model.add(Dense(37, activation='softmax'))"
   ]
  },
  {
   "cell_type": "code",
   "execution_count": 22,
   "id": "e4970b76",
   "metadata": {
    "colab": {
     "base_uri": "https://localhost:8080/"
    },
    "id": "e4970b76",
    "outputId": "365bac2e-ce65-4ac6-994e-818bf852f598"
   },
   "outputs": [
    {
     "name": "stdout",
     "output_type": "stream",
     "text": [
      "Model: \"sequential\"\n",
      "_________________________________________________________________\n",
      " Layer (type)                Output Shape              Param #   \n",
      "=================================================================\n",
      " lstm (LSTM)                 (None, 42, 64)            16896     \n",
      "                                                                 \n",
      " lstm_1 (LSTM)               (None, 42, 128)           98816     \n",
      "                                                                 \n",
      " lstm_2 (LSTM)               (None, 64)                49408     \n",
      "                                                                 \n",
      " dense (Dense)               (None, 64)                4160      \n",
      "                                                                 \n",
      " dense_1 (Dense)             (None, 32)                2080      \n",
      "                                                                 \n",
      " dense_2 (Dense)             (None, 37)                1221      \n",
      "                                                                 \n",
      "=================================================================\n",
      "Total params: 172581 (674.14 KB)\n",
      "Trainable params: 172581 (674.14 KB)\n",
      "Non-trainable params: 0 (0.00 Byte)\n",
      "_________________________________________________________________\n"
     ]
    }
   ],
   "source": [
    "# Compile the model\n",
    "model.compile(loss='categorical_crossentropy', optimizer='adam', metrics=['accuracy'])\n",
    "model.summary()"
   ]
  },
  {
   "cell_type": "code",
   "execution_count": 26,
   "id": "a216d2e2",
   "metadata": {
    "id": "a216d2e2"
   },
   "outputs": [],
   "source": [
    "checkpoint = ModelCheckpoint('best_model.h5', monitor='val_accuracy', save_best_only=True, mode='max', verbose=1)"
   ]
  },
  {
   "cell_type": "code",
   "execution_count": 27,
   "id": "7bc45db6",
   "metadata": {},
   "outputs": [
    {
     "data": {
      "text/plain": [
       "(26072, 37)"
      ]
     },
     "execution_count": 27,
     "metadata": {},
     "output_type": "execute_result"
    }
   ],
   "source": [
    "yt=ytrain.reshape(-1,1)\n",
    "ytrain.shape"
   ]
  },
  {
   "cell_type": "code",
   "execution_count": 28,
   "id": "5977bd26",
   "metadata": {
    "colab": {
     "base_uri": "https://localhost:8080/"
    },
    "id": "5977bd26",
    "outputId": "a0a3a75a-7b6e-4b28-fa38-4c3a6133b6f3"
   },
   "outputs": [
    {
     "name": "stdout",
     "output_type": "stream",
     "text": [
      "Epoch 1/5\n",
      "408/408 [==============================] - 79s 194ms/step - loss: 0.3327 - accuracy: 0.9055 - val_loss: 0.3010 - val_accuracy: 0.9210\n",
      "Epoch 2/5\n",
      "408/408 [==============================] - 84s 206ms/step - loss: 0.2895 - accuracy: 0.9157 - val_loss: 0.2888 - val_accuracy: 0.9274\n",
      "Epoch 3/5\n",
      "408/408 [==============================] - 82s 201ms/step - loss: 0.2599 - accuracy: 0.9229 - val_loss: 0.2339 - val_accuracy: 0.9362\n",
      "Epoch 4/5\n",
      "408/408 [==============================] - 83s 203ms/step - loss: 0.2257 - accuracy: 0.9344 - val_loss: 0.1997 - val_accuracy: 0.9509\n",
      "Epoch 5/5\n",
      "408/408 [==============================] - 85s 208ms/step - loss: 0.2147 - accuracy: 0.9367 - val_loss: 0.1896 - val_accuracy: 0.9498\n"
     ]
    }
   ],
   "source": [
    "# Train the model for lstm\n",
    "history = model.fit(xtrain, ytrain, epochs=20, batch_size=64, validation_data=[xtest,ytest], verbose=1)"
   ]
  },
  {
   "cell_type": "code",
   "execution_count": 31,
   "id": "e69f8f93",
   "metadata": {
    "id": "e69f8f93"
   },
   "outputs": [],
   "source": [
    "best_model = load_model('best_model.h5')"
   ]
  },
  {
   "cell_type": "code",
   "execution_count": 30,
   "id": "40645194",
   "metadata": {
    "colab": {
     "base_uri": "https://localhost:8080/"
    },
    "id": "40645194",
    "outputId": "e6cba7d7-9ecc-4b84-d695-06b6a05a8a4d"
   },
   "outputs": [
    {
     "name": "stdout",
     "output_type": "stream",
     "text": [
      "204/204 [==============================] - 9s 43ms/step - loss: 0.1896 - accuracy: 0.9498\n",
      "Test Loss: 0.1896, Test Accuracy BiLSTM: 0.9498\n"
     ]
    }
   ],
   "source": [
    "# Evaluate on test data lstm\n",
    "test_loss, test_accuracy = model.evaluate(xtest, ytest)\n",
    "print(f\"Test Loss: {test_loss:.4f}, Test Accuracy BiLSTM: {test_accuracy:.4f}\")"
   ]
  },
  {
   "cell_type": "code",
   "execution_count": 16,
   "id": "0f24b48e",
   "metadata": {
    "colab": {
     "base_uri": "https://localhost:8080/",
     "height": 927
    },
    "id": "0f24b48e",
    "outputId": "c90cd9a9-357d-46d0-d7d6-8e7e0f5b3e2b"
   },
   "outputs": [
    {
     "data": {
      "image/png": "[encoded data removed]",
      "text/plain": [
       "<Figure size 432x288 with 1 Axes>"
      ]
     },
     "metadata": {
      "needs_background": "light"
     },
     "output_type": "display_data"
    },
    {
     "data": {
      "image/png": "[encoded data removed]",
      "text/plain": [
       "<Figure size 432x288 with 1 Axes>"
      ]
     },
     "metadata": {
      "needs_background": "light"
     },
     "output_type": "display_data"
    }
   ],
   "source": [
    "# Plot training & validation loss\n",
    "plt.plot(history.history['loss'])\n",
    "plt.plot(history.history['val_loss'])\n",
    "plt.title('Model loss')\n",
    "plt.ylabel('Loss')\n",
    "plt.xlabel('Epoch')\n",
    "plt.legend(['Train', 'Validation'], loc='upper left')\n",
    "plt.show()\n",
    "\n",
    "# Plot training & validation accuracy\n",
    "plt.plot(history.history['accuracy'])\n",
    "plt.plot(history.history['val_accuracy'])\n",
    "plt.title('Model accuracy')\n",
    "plt.ylabel('Accuracy')\n",
    "plt.xlabel('Epoch')\n",
    "plt.legend(['Train', 'Validation'], loc='upper left')\n",
    "plt.show()"
   ]
  },
  {
   "cell_type": "markdown",
   "id": "5eabe819",
   "metadata": {
    "id": "5eabe819"
   },
   "source": [
    "# To Calculate accuracy for GRU"
   ]
  },
  {
   "cell_type": "code",
   "execution_count": 32,
   "id": "7c451941",
   "metadata": {
    "colab": {
     "base_uri": "https://localhost:8080/"
    },
    "id": "7c451941",
    "outputId": "743de5f0-7822-4fa7-c317-d5a3513b52f9"
   },
   "outputs": [
    {
     "name": "stdout",
     "output_type": "stream",
     "text": [
      "Model: \"sequential_1\"\n",
      "_________________________________________________________________\n",
      " Layer (type)                Output Shape              Param #   \n",
      "=================================================================\n",
      " gru (GRU)                   (None, 42, 64)            12864     \n",
      "                                                                 \n",
      " gru_1 (GRU)                 (None, 42, 128)           74496     \n",
      "                                                                 \n",
      " gru_2 (GRU)                 (None, 64)                37248     \n",
      "                                                                 \n",
      " dense_3 (Dense)             (None, 64)                4160      \n",
      "                                                                 \n",
      " dense_4 (Dense)             (None, 32)                2080      \n",
      "                                                                 \n",
      " dense_5 (Dense)             (None, 37)                1221      \n",
      "                                                                 \n",
      "=================================================================\n",
      "Total params: 132069 (515.89 KB)\n",
      "Trainable params: 132069 (515.89 KB)\n",
      "Non-trainable params: 0 (0.00 Byte)\n",
      "_________________________________________________________________\n"
     ]
    }
   ],
   "source": [
    "xtrain_gru = xtrain_scaled.reshape((xtrain.shape[0], xtrain.shape[1], 1))\n",
    "xtest_gru = xtest_scaled.reshape((xtest.shape[0], xtest.shape[1], 1))\n",
    "\n",
    "model = Sequential()\n",
    "model.add(GRU(64, return_sequences=True, activation='linear', input_shape=(42,1)))\n",
    "model.add(GRU(128, return_sequences=True, activation='linear'))\n",
    "model.add(GRU(64, return_sequences=False, activation='linear'))\n",
    "model.add(Dense(64, activation='linear'))\n",
    "model.add(Dense(32, activation='linear'))\n",
    "model.add(Dense(37, activation='softmax'))\n",
    "\n",
    "# Compile the model\n",
    "model.compile(loss='categorical_crossentropy', optimizer='adam', metrics=['accuracy'])\n",
    "model.summary()"
   ]
  },
  {
   "cell_type": "code",
   "execution_count": 37,
   "id": "12cf1622",
   "metadata": {},
   "outputs": [],
   "source": [
    "checkpoint = ModelCheckpoint('best_model_gru.h5', monitor='val_accuracy', save_best_only=True, mode='max', verbose=1)"
   ]
  },
  {
   "cell_type": "code",
   "execution_count": 34,
   "id": "53719e34",
   "metadata": {
    "colab": {
     "base_uri": "https://localhost:8080/"
    },
    "id": "53719e34",
    "outputId": "9792d667-6b8c-4f1e-c0d8-f43b6b92fb41"
   },
   "outputs": [
    {
     "name": "stdout",
     "output_type": "stream",
     "text": [
      "Epoch 1/5\n",
      "204/204 [==============================] - 65s 271ms/step - loss: 2.7207 - accuracy: 0.2375 - val_loss: 1.9283 - val_accuracy: 0.4491\n",
      "Epoch 2/5\n",
      "204/204 [==============================] - 54s 267ms/step - loss: 1.0402 - accuracy: 0.7073 - val_loss: 0.5006 - val_accuracy: 0.8641\n",
      "Epoch 3/5\n",
      "204/204 [==============================] - 54s 266ms/step - loss: 0.4003 - accuracy: 0.8877 - val_loss: 0.3469 - val_accuracy: 0.9020\n",
      "Epoch 4/5\n",
      "204/204 [==============================] - 55s 269ms/step - loss: 0.2893 - accuracy: 0.9190 - val_loss: 0.2402 - val_accuracy: 0.9402\n",
      "Epoch 5/5\n",
      "204/204 [==============================] - 54s 266ms/step - loss: 0.2134 - accuracy: 0.9438 - val_loss: 0.2000 - val_accuracy: 0.9435\n"
     ]
    }
   ],
   "source": [
    "# Train the model for gru\n",
    "history = model.fit(xtrain, ytrain, epochs=20, batch_size=64, validation_data=[xtest,ytest], verbose=1)"
   ]
  },
  {
   "cell_type": "code",
   "execution_count": 38,
   "id": "0fd51b66",
   "metadata": {
    "colab": {
     "base_uri": "https://localhost:8080/"
    },
    "id": "0fd51b66",
    "outputId": "3de41bf6-c48d-4cc5-ff29-3899dc372852",
    "scrolled": true
   },
   "outputs": [
    {
     "name": "stdout",
     "output_type": "stream",
     "text": [
      "204/204 [==============================] - 7s 36ms/step - loss: 0.2000 - accuracy: 0.9435\n",
      "Test Loss: 0.2000, Test Accuracy GRU: 0.9435\n"
     ]
    }
   ],
   "source": [
    "# Evaluate on test data gru\n",
    "test_loss, test_accuracy = model.evaluate(xtest, ytest)\n",
    "print(f\"Test Loss: {test_loss:.4f}, Test Accuracy GRU: {test_accuracy:.4f}\")"
   ]
  },
  {
   "cell_type": "code",
   "execution_count": null,
   "id": "cc279929",
   "metadata": {
    "scrolled": true
   },
   "outputs": [],
   "source": [
    "best_model = load_model('best_model_gru.h5')"
   ]
  },
  {
   "cell_type": "code",
   "execution_count": 40,
   "id": "61e4231e",
   "metadata": {},
   "outputs": [
    {
     "data": {
      "image/png": "[encoded data removed]",
      "text/plain": [
       "<Figure size 432x288 with 1 Axes>"
      ]
     },
     "metadata": {
      "needs_background": "light"
     },
     "output_type": "display_data"
    },
    {
     "data": {
      "image/png": "[encoded data removed]",
      "text/plain": [
       "<Figure size 432x288 with 1 Axes>"
      ]
     },
     "metadata": {
      "needs_background": "light"
     },
     "output_type": "display_data"
    }
   ],
   "source": [
    "plt.plot(history.history['loss'], label='train')\n",
    "plt.plot(history.history['val_loss'], label='validation')\n",
    "plt.title('Model Loss')\n",
    "plt.xlabel('Epochs')\n",
    "plt.ylabel('Loss')\n",
    "plt.legend()\n",
    "plt.show()\n",
    "\n",
    "plt.plot(history.history['accuracy'], label='train')\n",
    "plt.plot(history.history['val_accuracy'], label='validation')\n",
    "plt.title('Model Accuracy')\n",
    "plt.xlabel('Epochs')\n",
    "plt.ylabel('Accuracy')\n",
    "plt.legend()\n",
    "plt.show()"
   ]
  },
  {
   "cell_type": "markdown",
   "id": "b6566c6e",
   "metadata": {
    "id": "b6566c6e"
   },
   "source": [
    "# For Realtime Prediction"
   ]
  },
  {
   "cell_type": "code",
   "execution_count": 41,
   "id": "94904359",
   "metadata": {
    "colab": {
     "base_uri": "https://localhost:8080/",
     "height": 245
    },
    "id": "94904359",
    "outputId": "598efd43-718b-4376-99e2-d3b290c83c21"
   },
   "outputs": [
    {
     "name": "stdout",
     "output_type": "stream",
     "text": [
      "K-NN \t SVM \t BiLSTM \t GRU\n",
      "1/1 [==============================] - 1s 1s/step\n",
      "1/1 [==============================] - 0s 58ms/step\n",
      " \n",
      "open \t open \t alphabet_A \t alphabet_A\n",
      "\n",
      "Ensemble Prediction: alphabet_A\n",
      " \n",
      "1/1 [==============================] - 0s 87ms/step\n",
      "1/1 [==============================] - 0s 79ms/step\n",
      " \n",
      "Peace \t Peace \t Peace \t Peace\n",
      "\n",
      "Ensemble Prediction: Peace\n",
      " \n",
      "1/1 [==============================] - 0s 36ms/step\n",
      "1/1 [==============================] - 0s 32ms/step\n",
      " \n",
      "Stop \t open \t pointer \t pointer\n",
      "\n",
      "Ensemble Prediction: pointer\n",
      " \n",
      "1/1 [==============================] - 0s 32ms/step\n",
      "1/1 [==============================] - 0s 26ms/step\n",
      " \n",
      "Internet \t open \t TV \t TV\n",
      "\n",
      "Ensemble Prediction: TV\n",
      " \n",
      "1/1 [==============================] - 0s 32ms/step\n",
      "1/1 [==============================] - 0s 25ms/step\n",
      " \n",
      "open \t open \t alphabet_C \t alphabet_C\n",
      "\n",
      "Ensemble Prediction: alphabet_C\n",
      " \n",
      "1/1 [==============================] - 0s 30ms/step\n",
      "1/1 [==============================] - 0s 37ms/step\n",
      " \n",
      "open \t open \t open \t open\n",
      "\n",
      "Ensemble Prediction: open\n",
      " \n",
      "1/1 [==============================] - 0s 32ms/step\n",
      "1/1 [==============================] - 0s 23ms/step\n",
      " \n",
      "Stop \t Stop \t Stop \t Stop\n",
      "\n",
      "Ensemble Prediction: Stop\n",
      " \n",
      "1/1 [==============================] - 0s 31ms/step\n",
      "1/1 [==============================] - 0s 24ms/step\n",
      " \n",
      "Stop \t Stop \t Stop \t Stop\n",
      "\n",
      "Ensemble Prediction: Stop\n",
      " \n",
      "1/1 [==============================] - 0s 31ms/step\n",
      "1/1 [==============================] - 0s 32ms/step\n",
      " \n",
      "No \t Stop \t alphabet_C \t alphabet_C\n",
      "\n",
      "Ensemble Prediction: alphabet_C\n",
      " \n",
      "1/1 [==============================] - 0s 32ms/step\n",
      "1/1 [==============================] - 0s 29ms/step\n",
      " \n",
      "Good \t Good \t pointer \t pointer\n",
      "\n",
      "Ensemble Prediction: Good\n",
      " \n",
      "1/1 [==============================] - 0s 39ms/step\n",
      "1/1 [==============================] - 0s 33ms/step\n",
      " \n",
      "Good \t Good \t Good \t Good\n",
      "\n",
      "Ensemble Prediction: Good\n",
      " \n",
      "1/1 [==============================] - 0s 38ms/step\n",
      "1/1 [==============================] - 0s 24ms/step\n",
      " \n",
      "close \t close \t close \t close\n",
      "\n",
      "Ensemble Prediction: close\n",
      " \n",
      "1/1 [==============================] - 0s 31ms/step\n",
      "1/1 [==============================] - 0s 32ms/step\n",
      " \n",
      "close \t Good \t alphabet_J \t alphabet_J\n",
      "\n",
      "Ensemble Prediction: alphabet_J\n",
      " \n",
      "1/1 [==============================] - 0s 32ms/step\n",
      "1/1 [==============================] - 0s 25ms/step\n",
      " \n",
      "pointer \t Pray \t No \t No\n",
      "\n",
      "Ensemble Prediction: No\n",
      " \n",
      "1/1 [==============================] - 0s 32ms/step\n",
      "1/1 [==============================] - 0s 25ms/step\n",
      " \n",
      "iloveyou \t iloveyou \t iloveyou \t iloveyou\n",
      "\n",
      "Ensemble Prediction: iloveyou\n",
      " \n",
      "1/1 [==============================] - 0s 39ms/step\n",
      "1/1 [==============================] - 0s 42ms/step\n",
      " \n",
      "iloveyou \t iloveyou \t iloveyou \t iloveyou\n",
      "\n",
      "Ensemble Prediction: iloveyou\n",
      " \n",
      "1/1 [==============================] - 0s 16ms/step\n",
      "1/1 [==============================] - 0s 24ms/step\n",
      " \n",
      "iloveyou \t iloveyou \t iloveyou \t iloveyou\n",
      "\n",
      "Ensemble Prediction: iloveyou\n",
      " \n",
      "1/1 [==============================] - 0s 34ms/step\n",
      "1/1 [==============================] - 0s 27ms/step\n",
      " \n",
      "iloveyou \t iloveyou \t iloveyou \t iloveyou\n",
      "\n",
      "Ensemble Prediction: iloveyou\n",
      " \n",
      "1/1 [==============================] - 0s 32ms/step\n",
      "1/1 [==============================] - 0s 33ms/step\n",
      " \n",
      "close \t open \t close \t close\n",
      "\n",
      "Ensemble Prediction: close\n",
      " \n",
      "1/1 [==============================] - 0s 28ms/step\n",
      "1/1 [==============================] - 0s 25ms/step\n",
      " \n",
      "pointer \t pointer \t Love \t Love\n",
      "\n",
      "Ensemble Prediction: Love\n",
      " \n",
      "1/1 [==============================] - 0s 35ms/step\n",
      "1/1 [==============================] - 0s 29ms/step\n",
      " \n",
      "close \t open \t alphabet_A \t alphabet_A\n",
      "\n",
      "Ensemble Prediction: alphabet_A\n",
      " \n",
      "1/1 [==============================] - 0s 32ms/step\n",
      "1/1 [==============================] - 0s 28ms/step\n",
      " \n",
      "ok \t ok \t ok \t ok\n",
      "\n",
      "Ensemble Prediction: ok\n",
      " \n",
      "1/1 [==============================] - 0s 29ms/step\n",
      "1/1 [==============================] - 0s 33ms/step\n",
      " \n",
      "ok \t ok \t ok \t ok\n",
      "\n",
      "Ensemble Prediction: ok\n",
      " \n",
      "1/1 [==============================] - 0s 30ms/step\n",
      "1/1 [==============================] - 0s 25ms/step\n",
      " \n",
      "ok \t ok \t ok \t ok\n",
      "\n",
      "Ensemble Prediction: ok\n",
      " \n",
      "1/1 [==============================] - 0s 25ms/step\n",
      "1/1 [==============================] - 0s 31ms/step\n",
      " \n",
      "ok \t ok \t ok \t ok\n",
      "\n",
      "Ensemble Prediction: ok\n",
      " \n",
      "1/1 [==============================] - 0s 29ms/step\n",
      "1/1 [==============================] - 0s 30ms/step\n",
      " \n",
      "close \t close \t close \t close\n",
      "\n",
      "Ensemble Prediction: close\n",
      " \n",
      "1/1 [==============================] - 0s 33ms/step\n",
      "1/1 [==============================] - 0s 28ms/step\n",
      " \n",
      "close \t close \t close \t close\n",
      "\n",
      "Ensemble Prediction: close\n",
      " \n",
      "1/1 [==============================] - 0s 16ms/step\n",
      "1/1 [==============================] - 0s 23ms/step\n",
      " \n",
      "Stop \t Stop \t Stop \t Stop\n",
      "\n",
      "Ensemble Prediction: Stop\n",
      " \n",
      "1/1 [==============================] - 0s 30ms/step\n",
      "1/1 [==============================] - 0s 28ms/step\n",
      " \n",
      "What \t open \t alphabet_A \t alphabet_A\n",
      "\n",
      "Ensemble Prediction: alphabet_A\n",
      " \n",
      "1/1 [==============================] - 0s 32ms/step\n",
      "1/1 [==============================] - 0s 28ms/step\n",
      " \n",
      "close \t close \t close \t close\n",
      "\n",
      "Ensemble Prediction: close\n",
      " \n",
      "1/1 [==============================] - 0s 20ms/step\n",
      "1/1 [==============================] - 0s 30ms/step\n",
      " \n",
      "close \t close \t close \t close\n",
      "\n",
      "Ensemble Prediction: close\n",
      " \n",
      "1/1 [==============================] - 0s 22ms/step\n",
      "1/1 [==============================] - 0s 24ms/step\n",
      " \n",
      "Internet \t Internet \t Internet \t Internet\n",
      "\n",
      "Ensemble Prediction: Internet\n",
      " \n",
      "1/1 [==============================] - 0s 29ms/step\n",
      "1/1 [==============================] - 0s 24ms/step\n",
      " \n",
      "Super \t open \t Super \t Super\n",
      "\n",
      "Ensemble Prediction: Super\n",
      " \n",
      "1/1 [==============================] - 0s 38ms/step\n",
      "1/1 [==============================] - 0s 32ms/step\n",
      " \n",
      "Internet \t Internet \t No \t No\n",
      "\n",
      "Ensemble Prediction: Internet\n",
      " \n",
      "1/1 [==============================] - 0s 28ms/step\n",
      "1/1 [==============================] - 0s 27ms/step\n",
      " \n",
      "Internet \t Internet \t ok \t ok\n",
      "\n",
      "Ensemble Prediction: ok\n",
      " \n",
      "1/1 [==============================] - 0s 37ms/step\n",
      "1/1 [==============================] - 0s 38ms/step\n",
      " \n",
      "What \t What \t close \t close\n",
      "\n",
      "Ensemble Prediction: What\n",
      " \n",
      "1/1 [==============================] - 0s 32ms/step\n",
      "1/1 [==============================] - 0s 25ms/step\n",
      " \n",
      "What \t What \t What \t What\n",
      "\n",
      "Ensemble Prediction: What\n",
      " \n",
      "1/1 [==============================] - 0s 32ms/step\n",
      "1/1 [==============================] - 0s 24ms/step\n",
      " \n",
      "close \t close \t open \t open\n",
      "\n",
      "Ensemble Prediction: open\n",
      " \n",
      "1/1 [==============================] - 0s 32ms/step\n",
      "1/1 [==============================] - 0s 27ms/step\n",
      " \n",
      "alphabet_B \t food \t food \t food\n",
      "\n",
      "Ensemble Prediction: food\n",
      " \n",
      "1/1 [==============================] - 0s 37ms/step\n",
      "1/1 [==============================] - 0s 35ms/step\n",
      " \n",
      "alphabet_C \t alphabet_C \t alphabet_C \t alphabet_C\n",
      "\n",
      "Ensemble Prediction: alphabet_C\n",
      " \n",
      "1/1 [==============================] - 0s 43ms/step\n",
      "1/1 [==============================] - 0s 44ms/step\n",
      " \n",
      "alphabet_C \t alphabet_C \t alphabet_C \t alphabet_C\n",
      "\n",
      "Ensemble Prediction: alphabet_C\n",
      " \n",
      "1/1 [==============================] - 0s 32ms/step\n",
      "1/1 [==============================] - 0s 33ms/step\n",
      " \n",
      "alphabet_C \t alphabet_C \t alphabet_C \t alphabet_C\n",
      "\n",
      "Ensemble Prediction: alphabet_C\n",
      " \n",
      "1/1 [==============================] - 0s 65ms/step\n",
      "1/1 [==============================] - 0s 66ms/step\n",
      " \n",
      "Stop \t open \t pointer \t pointer\n",
      "\n",
      "Ensemble Prediction: pointer\n",
      " \n",
      " \n",
      "Average Recognition Time (k-NN): 6.420041860454064 ms\n",
      "Average Recognition Time (SVM): 9.953220930223916 ms\n",
      "Average Recognition Time (BiLSTM): 10.786439767440601 ms\n",
      "Average Recognition Time (GRU): 19.455383255812258 ms\n"
     ]
    }
   ],
   "source": [
    "mp_hands = mp.solutions.hands\n",
    "mp_drawing = mp.solutions.drawing_utils\n",
    "hands = mp_hands.Hands(min_detection_confidence=0.8, min_tracking_confidence=0.5)\n",
    "cap = cv2.VideoCapture(0)  # Use the appropriate index or video file path\n",
    "\n",
    "recognition_times_knn = []  # To store recognition times for k-NN\n",
    "recognition_times_svm = []  # To store recognition times for SVM\n",
    "recognition_times_lstm = [] #To store recognition times for LSTM\n",
    "recognition_times_gru = [] #To store recognition times for GRU\n",
    "\n",
    "\n",
    "print(\"K-NN \\t SVM \\t BiLSTM \\t GRU\")\n",
    "while cap.isOpened():\n",
    "    ret, frame = cap.read()\n",
    "\n",
    "    # BGR 2 RGB\n",
    "    image = cv2.cvtColor(frame, cv2.COLOR_BGR2RGB)\n",
    "\n",
    "    # Flip on horizontal\n",
    "    image = cv2.flip(image, 1)\n",
    "    debug_image = copy.deepcopy(image)\n",
    "\n",
    "    # Set flag\n",
    "    image.flags.writeable = False\n",
    "\n",
    "    # Detections\n",
    "    results = hands.process(image)\n",
    "\n",
    "    # Set flag to true\n",
    "    image.flags.writeable = True\n",
    "\n",
    "    # RGB 2 BGR\n",
    "    image = cv2.cvtColor(image, cv2.COLOR_RGB2BGR)\n",
    "    with open(\"label.txt\",'r') as f:\n",
    "        label=f.read().split()\n",
    "        # Rendering results\n",
    "        if results.multi_hand_landmarks:\n",
    "            for hand_landmarks, handedness in zip(results.multi_hand_landmarks, results.multi_handedness):\n",
    "                    landmark_list = calc_landmark_list(debug_image, hand_landmarks)\n",
    "                    pre_processed_landmark_list = pre_process_landmark(landmark_list)\n",
    "                    x, y, w, h = cv2.boundingRect(np.array(landmark_list))\n",
    "                    cv2.rectangle(debug_image, (x, y), (x + w, y + h), (0, 255, 0), 2)\n",
    "                    hand_label = \"Left Hand\" if handedness.classification[0].label == \"Left\" else \"Right Hand\"\n",
    "                    cv2.putText(debug_image, hand_label, (x, y - 10), cv2.FONT_HERSHEY_SIMPLEX, 0.5, (255, 255, 255), 2)\n",
    "                    mp_drawing.draw_landmarks(debug_image, hand_landmarks, mp_hands.HAND_CONNECTIONS,\n",
    "                                                  mp_drawing.DrawingSpec(color=(121, 22, 76), thickness=2, circle_radius=4),\n",
    "                                                  mp_drawing.DrawingSpec(color=(250, 44, 250), thickness=2, circle_radius=2),\n",
    "                                                  )\n",
    "            data2 = pd.DataFrame([pre_processed_landmark_list])\n",
    "            xi = data2.iloc[:,:]\n",
    "\n",
    "            start_time = time.perf_counter()               #Record start time\n",
    "\n",
    "            # Predict using k-NN\n",
    "            pred = knn.predict(xi)\n",
    "            #pred_knn = knn.predict([pre_processed_landmark_list])[0]\n",
    "            end_time = time.perf_counter()                  # Record end time and calculate recognition time\n",
    "            recognition_time_knn = end_time - start_time\n",
    "            recognition_times_knn.append(recognition_time_knn)\n",
    "\n",
    "            # Predict using SVM\n",
    "            spred=clf.predict(xi)\n",
    "            end_time = time.perf_counter()                 # Record end time and calculate recognition time\n",
    "            recognition_time_svm = end_time - start_time\n",
    "            recognition_times_svm.append(recognition_time_svm)\n",
    "\n",
    "            # Predict using LSTM\n",
    "            xi_lstm = np.array(xi).reshape((xi.shape[0], xi.shape[1],1))  # Reshape for LSTM input\n",
    "            predictions_prob = model.predict(xi_lstm)\n",
    "            pred_lstm = np.argmax(predictions_prob,axis=1)\n",
    "            end_time = time.perf_counter()  # Record end time and calculate recognition time\n",
    "            recognition_time_lstm = end_time - start_time\n",
    "            recognition_times_lstm.append(recognition_time_lstm)\n",
    "\n",
    "            # Predict using GRU\n",
    "            xi_gru = np.array(xi).reshape((xi.shape[0], xi.shape[1], 1))  # Reshape for GRU input\n",
    "            predictions_prob = model.predict(xi_gru)\n",
    "            pred_gru = np.argmax(predictions_prob, axis=1)\n",
    "            end_time = time.perf_counter()  # Record end time and calculate recognition time\n",
    "            recognition_time_gru = end_time - start_time\n",
    "            recognition_times_gru.append(recognition_time_gru)\n",
    "\n",
    "            op=label[int(pred)]  #knn\n",
    "            sop=label[int(spred)] #svm\n",
    "            lop = label[int(pred_lstm)]  # biLSTM\n",
    "            gop = label[int(pred_gru)]  # GRU\n",
    "            print(\" \")\n",
    "            print(op, \"\\t\", sop, \"\\t\", lop, \"\\t\", gop)\n",
    "\n",
    "            predictions = [op, sop, lop, gop]  # Ensemble predicition\n",
    "            max_vote = max(set(predictions), key=predictions.count)\n",
    "            print(\"\\nEnsemble Prediction:\", max_vote)\n",
    "            print(\" \")\n",
    "\n",
    "            time.sleep(1)\n",
    "            cv2.putText(debug_image,str(op), (x, y), cv2.FONT_HERSHEY_SIMPLEX, 0.5, (200, 255, 255), 2)\n",
    "            time.sleep(1)\n",
    "            cv2.imshow('Hand Tracking', debug_image)\n",
    "\n",
    "            if cv2.waitKey(400) & 0xFF == ord('q'):\n",
    "                break\n",
    "print(\" \")\n",
    "# Calculate and print average recognition time for k-NN\n",
    "avg_recognition_time_knn = sum(recognition_times_knn) / len(recognition_times_knn)\n",
    "print(\"Average Recognition Time (k-NN):\", avg_recognition_time_knn*1000, \"ms\")\n",
    "\n",
    "# Calculate and print average recognition time for SVM\n",
    "avg_recognition_time_svm = sum(recognition_times_svm) / len(recognition_times_svm)\n",
    "print(\"Average Recognition Time (SVM):\", avg_recognition_time_svm*1000, \"ms\")\n",
    "\n",
    "# Calculate and print average recognition time for LSTM\n",
    "avg_recognition_time_lstm = sum(recognition_times_lstm) / len(recognition_times_lstm)\n",
    "print(\"Average Recognition Time (BiLSTM):\", avg_recognition_time_lstm * 100, \"ms\")\n",
    "\n",
    "# Calculate and print average recognition time for GRU\n",
    "avg_recognition_time_gru = sum(recognition_times_gru) / len(recognition_times_gru)\n",
    "print(\"Average Recognition Time (GRU):\", avg_recognition_time_gru * 100, \"ms\")\n",
    "\n",
    "cap.release()\n",
    "cv2.destroyAllWindows()\n",
    "hands.close()\n"
   ]
  },
  {
   "cell_type": "code",
   "execution_count": null,
   "id": "b39847d7",
   "metadata": {
    "id": "b39847d7"
   },
   "outputs": [],
   "source": []
  },
  {
   "cell_type": "code",
   "execution_count": null,
   "id": "dbf4b804",
   "metadata": {
    "id": "dbf4b804"
   },
   "outputs": [],
   "source": []
  },
  {
   "cell_type": "code",
   "execution_count": null,
   "id": "4e4e0dbf",
   "metadata": {
    "id": "4e4e0dbf"
   },
   "outputs": [],
   "source": []
  }
 ],
 "metadata": {
  "accelerator": "GPU",
  "colab": {
   "gpuType": "T4",
   "provenance": []
  },
  "kernelspec": {
   "display_name": "Python 3",
   "language": "python",
   "name": "python3"
  },
  "language_info": {
   "codemirror_mode": {
    "name": "ipython",
    "version": 3
   },
   "file_extension": ".py",
   "mimetype": "text/x-python",
   "name": "python",
   "nbconvert_exporter": "python",
   "pygments_lexer": "ipython3",
   "version": "3.8.8"
  }
 },
 "nbformat": 4,
 "nbformat_minor": 5
}
